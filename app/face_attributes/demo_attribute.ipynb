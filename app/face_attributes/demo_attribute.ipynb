{
 "cells": [
  {
   "cell_type": "code",
   "execution_count": 1,
   "metadata": {},
   "outputs": [],
   "source": [
    "import datetime\n",
    "import os\n",
    "import pickle\n",
    "\n",
    "# import mxnet as mx\n",
    "import numpy as np\n",
    "# import sklearn\n",
    "# import torch\n",
    "# from mxnet import ndarray as nd\n",
    "# from scipy import interpolate\n",
    "# from sklearn.decomposition import PCA\n",
    "# from sklearn.model_selection import KFold\n",
    "from faceattribute_implement import PyWebFace260M\n",
    "import cv2\n",
    "from glob import glob"
   ]
  },
  {
   "cell_type": "code",
   "execution_count": 2,
   "metadata": {},
   "outputs": [],
   "source": [
    "probe_img_dir = \"./demo\" # define your probe images dir here\n",
    "gallery_img_dir = \"./demo\" # define your gallery images dir here\n",
    "assets_path = \"./assets\""
   ]
  },
  {
   "cell_type": "code",
   "execution_count": 3,
   "metadata": {},
   "outputs": [
    {
     "name": "stdout",
     "output_type": "stream",
     "text": [
      "use_gpu: False\n",
      "use onnx-model: ./assets/det/R50-retinaface.onnx\n",
      "det intra_op_num_threads 1 inter_op_num_threads 1\n",
      "[32, 16, 8] {'32': {'SCALES': (32, 16), 'BASE_SIZE': 16, 'RATIOS': (1.0,), 'ALLOWED_BORDER': 9999}, '16': {'SCALES': (8, 4), 'BASE_SIZE': 16, 'RATIOS': (1.0,), 'ALLOWED_BORDER': 9999}, '8': {'SCALES': (2, 1), 'BASE_SIZE': 16, 'RATIOS': (1.0,), 'ALLOWED_BORDER': 9999}}\n",
      "use_landmarks True\n",
      "use onnx-model: ./assets/face_reg/face_attributes_40.onnx\n",
      "face reg intra_op_num_threads 1 inter_op_num_threads 1\n",
      "input-shape: ['None', 3, 224, 224]\n",
      "image_size: (224, 224)\n",
      "input-size  (112, 112) is inconsistant with onnx model input (224, 224)\n",
      "0 Identity_0\n",
      "1 Identity_1\n",
      "2 Identity_2\n",
      "3 Identity_3\n",
      "4 Identity_4\n",
      "5 Identity_5\n",
      "6 Identity_6\n",
      "7 Identity_7\n",
      "find_sub False find_mul False\n",
      "1\n",
      "costs:  [0.216171]\n",
      "total time cost: 216 ms\n",
      "det time cost: 123 ms\n",
      "face_reg time cost: 93 ms\n",
      "check stat:, feat-dim: 2, time-cost-ms: 216.0000, input-mean: 127.500, input-std: 127.500\n"
     ]
    }
   ],
   "source": [
    "x = PyWebFace260M(use_gpu=False)\n",
    "\n",
    "x.load(assets_path)\n",
    "feat_len = x.feat_dim\n",
    "# print('feat length:', feat_len)\n",
    "\n"
   ]
  },
  {
   "cell_type": "code",
   "execution_count": 10,
   "metadata": {},
   "outputs": [
    {
     "name": "stdout",
     "output_type": "stream",
     "text": [
      "Male: 0 \n",
      "\n",
      "Male: 0 \n",
      "\n",
      "Male: 0 \n",
      "\n",
      "Male: 1 \n",
      "\n",
      "Male: 1 \n",
      "\n",
      "Male: 1 \n",
      "\n",
      "Male: 1 \n",
      "\n"
     ]
    }
   ],
   "source": [
    "attr_list = [\n",
    "    \"5_o_Clock_Shadow\", \n",
    "    \"Arched_Eyebrows\",\n",
    "    \"Attractive\",\n",
    "    \"Bags_Under_Eyes\",\n",
    "    \"Bald\",\n",
    "    \"Bangs\", \n",
    "    \"Big_Lips\",\n",
    "    \"Big_Nose\", \n",
    "    \"Black_Hair\", \n",
    "    \"Blond_Hair\", \n",
    "    \"Blurry\", \n",
    "    \"Brown_Hair\", \n",
    "    \"Bushy_Eyebrows\", \n",
    "    \"Chubby\", \n",
    "    \"Double_Chin\", \n",
    "    \"Eyeglasses\", \n",
    "    \"Goatee\", \n",
    "    \"Gray_Hair\", \n",
    "    \"Heavy_Makeup\", \n",
    "    \"High_Cheekbones\", \n",
    "    \"Male\", \n",
    "    \"Mouth_Slightly_Open\", \n",
    "    \"Mustache\", \n",
    "    \"Narrow_Eyes\", \n",
    "    \"No_Beard\", \n",
    "    \"Oval_Face\", \n",
    "    \"Pale_Skin\",\n",
    "    \"Pointy_Nose\", \n",
    "    \"Receding_Hairline\", \n",
    "    \"Rosy_Cheeks\", \n",
    "    \"Sideburns\", \n",
    "    \"Smiling\", \n",
    "    \"Straight_Hair\", \n",
    "    \"Wavy_Hair\", \n",
    "    \"Wearing_Earrings\", \n",
    "    \"Wearing_Hat\", \n",
    "    \"Wearing_Lipstick\", \n",
    "    \"Wearing_Necklace\", \n",
    "    \"Wearing_Necktie\", \n",
    "    \"Young\",\n",
    "]\n",
    "# for i in range(6):\n",
    "# for img_path in sorted(glob(os.path.join(gallery_img_dir, \"*.png\"))):\n",
    "for img_path in sorted(glob(os.path.join(gallery_img_dir, \"*.png\"))):\n",
    "    # print(img_path)\n",
    "    ta = datetime.datetime.now()\n",
    "    img = cv2.imread(img_path)\n",
    "\n",
    "    \n",
    "    attr_40 , aimg  = x.get_feature(img)\n",
    "\n",
    "\n",
    "    for idx in range(len(attr_list)):\n",
    "        attr_i = attr_40[idx][0]\n",
    "        \n",
    "        # convert to softmax\n",
    "        attr_i = np.exp(attr_i)/np.sum(np.exp(attr_i))\n",
    "        # print(attr_i)\n",
    "        \n",
    "        attr_i = np.argmax(attr_i)\n",
    "        # print(attr_list[idx] + \": %s \\n\" % attr_i)\n",
    "\n",
    "        if idx == 20:\n",
    "            print(attr_list[idx] + \": %s \\n\" % attr_i)\n",
    "    \n",
    "\n"
   ]
  },
  {
   "cell_type": "code",
   "execution_count": null,
   "metadata": {},
   "outputs": [],
   "source": [
    "# print(aimg[0].shape)\n",
    "# cv2.imwrite(\"crop_img.jpg\", aimg[0])"
   ]
  },
  {
   "cell_type": "code",
   "execution_count": null,
   "metadata": {},
   "outputs": [],
   "source": [
    "# cv2.imwrite(\"crop_img.jpg\", aimg[0])"
   ]
  },
  {
   "cell_type": "code",
   "execution_count": null,
   "metadata": {},
   "outputs": [],
   "source": []
  }
 ],
 "metadata": {
  "kernelspec": {
   "display_name": "Python 3.9.15 ('insightface')",
   "language": "python",
   "name": "python3"
  },
  "language_info": {
   "codemirror_mode": {
    "name": "ipython",
    "version": 3
   },
   "file_extension": ".py",
   "mimetype": "text/x-python",
   "name": "python",
   "nbconvert_exporter": "python",
   "pygments_lexer": "ipython3",
   "version": "3.9.15"
  },
  "orig_nbformat": 4,
  "vscode": {
   "interpreter": {
    "hash": "388b3fe59227e99359c300d56cfa3339fb010e1771b67b0a58dbb0bde11e72b3"
   }
  }
 },
 "nbformat": 4,
 "nbformat_minor": 2
}
