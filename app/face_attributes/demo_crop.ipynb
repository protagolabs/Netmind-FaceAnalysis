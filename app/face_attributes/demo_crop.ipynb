{
 "cells": [
  {
   "cell_type": "code",
   "execution_count": 1,
   "metadata": {},
   "outputs": [
    {
     "name": "stderr",
     "output_type": "stream",
     "text": [
      "c:\\Users\\xingd\\anaconda3\\envs\\fa\\lib\\site-packages\\tqdm\\auto.py:22: TqdmWarning: IProgress not found. Please update jupyter and ipywidgets. See https://ipywidgets.readthedocs.io/en/stable/user_install.html\n",
      "  from .autonotebook import tqdm as notebook_tqdm\n"
     ]
    }
   ],
   "source": [
    "import datetime\n",
    "import os\n",
    "import pickle\n",
    "\n",
    "# import mxnet as mx\n",
    "import numpy as np\n",
    "import sklearn\n",
    "import torch\n",
    "# from mxnet import ndarray as nd\n",
    "from scipy import interpolate\n",
    "from sklearn.decomposition import PCA\n",
    "from sklearn.model_selection import KFold\n",
    "from faceattribute_implement import PyWebFace260M\n",
    "import cv2\n",
    "from glob import glob"
   ]
  },
  {
   "cell_type": "code",
   "execution_count": 2,
   "metadata": {},
   "outputs": [],
   "source": [
    "probe_img_dir = \"./demo\" # define your probe images dir here\n",
    "gallery_img_dir = \"./demo\" # define your gallery images dir here\n",
    "assets_path = \"./assets\""
   ]
  },
  {
   "cell_type": "code",
   "execution_count": 3,
   "metadata": {},
   "outputs": [
    {
     "name": "stdout",
     "output_type": "stream",
     "text": [
      "use_gpu: False\n",
      "use onnx-model: ./assets\\det\\R50-retinaface.onnx\n",
      "det intra_op_num_threads 1 inter_op_num_threads 1\n",
      "[32, 16, 8] {'32': {'SCALES': (32, 16), 'BASE_SIZE': 16, 'RATIOS': (1.0,), 'ALLOWED_BORDER': 9999}, '16': {'SCALES': (8, 4), 'BASE_SIZE': 16, 'RATIOS': (1.0,), 'ALLOWED_BORDER': 9999}, '8': {'SCALES': (2, 1), 'BASE_SIZE': 16, 'RATIOS': (1.0,), 'ALLOWED_BORDER': 9999}}\n",
      "use_landmarks True\n",
      "use onnx-model: ./assets\\face_reg\\R50_MS1MV2_PW.onnx\n",
      "face reg intra_op_num_threads 1 inter_op_num_threads 1\n",
      "input-shape: ['None', 3, 112, 112]\n",
      "0 Conv_0\n",
      "1 PRelu_1\n",
      "2 BatchNormalization_2\n",
      "3 Conv_3\n",
      "4 PRelu_4\n",
      "5 Conv_5\n",
      "6 Conv_6\n",
      "7 Add_7\n",
      "find_sub False find_mul False\n",
      "costs:  [0.112699]\n",
      "total time cost: 112 ms\n",
      "det time cost: 112 ms\n",
      "face_reg time cost: 0 ms\n",
      "check stat:, feat-dim: 512, time-cost-ms: 112.0000, input-mean: 127.500, input-std: 127.500\n",
      "feat length: 512\n"
     ]
    }
   ],
   "source": [
    "x = PyWebFace260M(use_gpu=False)\n",
    "\n",
    "x.load(assets_path)\n",
    "feat_len = x.feat_dim\n",
    "print('feat length:', feat_len)\n",
    "\n"
   ]
  },
  {
   "cell_type": "code",
   "execution_count": 4,
   "metadata": {},
   "outputs": [],
   "source": [
    "feat_list = []\n",
    "# for i in range(6):\n",
    "for img_path in sorted(glob(os.path.join(gallery_img_dir, \"*.png\"))):\n",
    "    # print(img_path)\n",
    "    ta = datetime.datetime.now()\n",
    "    img = cv2.imread(img_path)\n",
    "\n",
    "    \n",
    "    _ , aimg  = x.get_feature(img)\n",
    "\n"
   ]
  },
  {
   "cell_type": "code",
   "execution_count": 5,
   "metadata": {},
   "outputs": [
    {
     "name": "stdout",
     "output_type": "stream",
     "text": [
      "(112, 112, 3)\n"
     ]
    },
    {
     "data": {
      "text/plain": [
       "True"
      ]
     },
     "execution_count": 5,
     "metadata": {},
     "output_type": "execute_result"
    }
   ],
   "source": [
    "print(aimg[0].shape)\n",
    "cv2.imwrite(\"crop_img.jpg\", aimg[0])"
   ]
  },
  {
   "cell_type": "code",
   "execution_count": null,
   "metadata": {},
   "outputs": [],
   "source": []
  }
 ],
 "metadata": {
  "kernelspec": {
   "display_name": "Python 3.8.13 ('fa')",
   "language": "python",
   "name": "python3"
  },
  "language_info": {
   "codemirror_mode": {
    "name": "ipython",
    "version": 3
   },
   "file_extension": ".py",
   "mimetype": "text/x-python",
   "name": "python",
   "nbconvert_exporter": "python",
   "pygments_lexer": "ipython3",
   "version": "3.8.13"
  },
  "orig_nbformat": 4,
  "vscode": {
   "interpreter": {
    "hash": "e60ec22160d675aaf38cba995b98e80cee2da1ba36c2e73ebe38abdaffbdc88c"
   }
  }
 },
 "nbformat": 4,
 "nbformat_minor": 2
}
